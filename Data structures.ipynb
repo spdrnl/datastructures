{
 "cells": [
  {
   "cell_type": "code",
   "execution_count": 5,
   "metadata": {},
   "outputs": [],
   "source": [
    "class ListNode(object):\n",
    "    def __init__(self, value, next_node):\n",
    "        self.value = value\n",
    "        self.next_node = next_node\n",
    "    \n",
    "    def __repr__(self):\n",
    "        return \"{}\".format(self.value)"
   ]
  },
  {
   "cell_type": "code",
   "execution_count": 6,
   "metadata": {},
   "outputs": [],
   "source": [
    "n = ListNode(1, None)"
   ]
  },
  {
   "cell_type": "code",
   "execution_count": 7,
   "metadata": {},
   "outputs": [],
   "source": [
    "class Queue(object):\n",
    "    def __init__(self):\n",
    "        self.head = None\n",
    "        self.tail = None\n",
    "        \n",
    "    def enqueue(self, value):\n",
    "        node = ListNode(value, None)\n",
    "        if self.head == None:\n",
    "            self.head = node\n",
    "            self.tail = node\n",
    "        else:\n",
    "            self.tail.next_node = node\n",
    "            self.tail = node\n",
    "            \n",
    "    def dequeue(self):\n",
    "        if self.head is None:\n",
    "            return None\n",
    "        else:\n",
    "            node = self.head\n",
    "            self.head = self.head.next_node\n",
    "            return node.value\n",
    "    \n",
    "    def is_empty(self):\n",
    "        return self.head == None\n",
    "    \n",
    "    def __iter__(self):\n",
    "        node = self.head\n",
    "        while not node is None:\n",
    "            yield node\n",
    "            node = node.next_node\n",
    "            \n",
    "    def __repr__ (self):\n",
    "        return \"::\".join([str(node) for node in self] + [\"None\"])\n",
    "        \n",
    "        "
   ]
  },
  {
   "cell_type": "code",
   "execution_count": 4,
   "metadata": {},
   "outputs": [
    {
     "name": "stdout",
     "output_type": "stream",
     "text": [
      "5::10::2::1::None\n",
      "5\n",
      "10\n",
      "2\n",
      "1\n",
      "None\n"
     ]
    }
   ],
   "source": [
    "q = Queue()\n",
    "\n",
    "q.enqueue(5)\n",
    "q.enqueue(10)\n",
    "q.enqueue(2)\n",
    "q.enqueue(1)\n",
    "\n",
    "print(q)\n",
    "\n",
    "print(q.dequeue())\n",
    "print(q.dequeue())\n",
    "print(q.dequeue())\n",
    "print(q.dequeue())\n",
    "print(q.dequeue())\n"
   ]
  },
  {
   "cell_type": "code",
   "execution_count": 7,
   "metadata": {},
   "outputs": [],
   "source": [
    "class Stack(object):\n",
    "    def __init__(self):\n",
    "        self.head = None\n",
    "        \n",
    "    def push(self, value):\n",
    "        node = ListNode(value, self.head)\n",
    "        self.head = node\n",
    "            \n",
    "    def pop(self):\n",
    "        if self.head is None:\n",
    "            return None\n",
    "        else:\n",
    "            node = self.head\n",
    "            self.head = self.head.next_node\n",
    "            return node.value\n",
    "    \n",
    "    def __iter__(self):\n",
    "        node = self.head\n",
    "        while not node is None:\n",
    "            yield node\n",
    "            node = node.next_node\n",
    "            \n",
    "    def __repr__ (self):\n",
    "        return \"::\".join([str(node) for node in self] + [\"None\"])"
   ]
  },
  {
   "cell_type": "code",
   "execution_count": 8,
   "metadata": {},
   "outputs": [
    {
     "name": "stdout",
     "output_type": "stream",
     "text": [
      "1::2::10::5::None\n",
      "1\n",
      "2\n",
      "10\n",
      "5\n",
      "None\n"
     ]
    }
   ],
   "source": [
    "s = Stack()\n",
    "\n",
    "s.push(5)\n",
    "s.push(10)\n",
    "s.push(2)\n",
    "s.push(1)\n",
    "\n",
    "print(s)\n",
    "\n",
    "print(s.pop())\n",
    "print(s.pop())\n",
    "print(s.pop())\n",
    "print(s.pop())\n",
    "print(s.pop())\n"
   ]
  },
  {
   "cell_type": "code",
   "execution_count": 9,
   "metadata": {},
   "outputs": [],
   "source": [
    "# class DynamicArray(object):\n",
    "# aka list\n",
    "# python does not support fixed arrays\n",
    "    "
   ]
  },
  {
   "cell_type": "code",
   "execution_count": 154,
   "metadata": {},
   "outputs": [],
   "source": [
    "# Uses dynamic array as backing memory structure\n",
    "class BinaryTree(object):\n",
    "    def __init__(self):\n",
    "        self.values = []\n",
    "                \n",
    "    def append(self, value):\n",
    "        self.values.append(value)\n",
    "        \n",
    "    def find(self, value):\n",
    "        idx = None\n",
    "        try:\n",
    "            idx = self.values.index(value)\n",
    "        except:\n",
    "            pass\n",
    "        return idx\n",
    "        \n",
    "    def left_child(self, parent_idx):\n",
    "        child_idx = 2 * parent_idx + 1\n",
    "        return child_idx if child_idx <= len(self) - 1 else None\n",
    "        \n",
    "    def right_child(self, parent_idx):\n",
    "        child_idx = 2 * parent_idx + 2\n",
    "        return child_idx if child_idx <= len(self) - 1 else None\n",
    "    \n",
    "    def parent(self, child_idx):\n",
    "        if child_idx <= len(self) - 1:\n",
    "            parent_idx = (child_idx - 1)//2\n",
    "            return parent_idx\n",
    "        else:\n",
    "            return None\n",
    "    \n",
    "    def remove(self, value):\n",
    "        idx = self.find(value)\n",
    "        if not value == None:\n",
    "            if idx == len(self) - 1:\n",
    "                del self.values[idx]\n",
    "            else:\n",
    "                self.values[idx] = self.values[-1]\n",
    "                del self.values[-1]\n",
    "            \n",
    "    def __len__(self):\n",
    "        return len(self.values)\n",
    "    \n",
    "    def __iter__(self): \n",
    "        for value in values:\n",
    "            yield value\n",
    "            \n",
    "    def __repr__(self):\n",
    "        return str(self.values)\n"
   ]
  },
  {
   "cell_type": "code",
   "execution_count": 155,
   "metadata": {},
   "outputs": [
    {
     "name": "stdout",
     "output_type": "stream",
     "text": [
      "[1, 2, 3, 4, 5, 6]\n",
      "0\n",
      "None\n",
      "1\n",
      "2\n",
      "0\n",
      "0\n",
      "1\n",
      "1\n"
     ]
    }
   ],
   "source": [
    "bt = BinaryTree()\n",
    "\n",
    "bt.append(1)\n",
    "bt.append(2)\n",
    "bt.append(3)\n",
    "bt.append(4)\n",
    "bt.append(5)\n",
    "bt.append(6)\n",
    "\n",
    "\n",
    "\n",
    "print(bt)\n",
    "\n",
    "print(bt.find(1))\n",
    "print(bt.left_child(10))\n",
    "print(bt.left_child(0))\n",
    "print(bt.right_child(0))\n",
    "print(bt.parent(1))\n",
    "print(bt.parent(2))\n",
    "print(bt.parent(3))\n",
    "print(bt.parent(4))"
   ]
  },
  {
   "cell_type": "code",
   "execution_count": 156,
   "metadata": {},
   "outputs": [
    {
     "name": "stdout",
     "output_type": "stream",
     "text": [
      "[1, 2, 6, 4, 5]\n"
     ]
    }
   ],
   "source": [
    "bt.remove(3)\n",
    "print(bt)"
   ]
  },
  {
   "cell_type": "code",
   "execution_count": 205,
   "metadata": {},
   "outputs": [],
   "source": [
    "class MaxHeap(BinaryTree):\n",
    "    def __init__(self):\n",
    "        super().__init__()\n",
    "        \n",
    "    def append(self, value):\n",
    "        super().append(value)\n",
    "        idx = len(self) - 1\n",
    "        self.swim(idx)\n",
    "        \n",
    "    def pop(self):\n",
    "        top_node = 0\n",
    "        last_node = len(self) - 1\n",
    "        \n",
    "        value = self.values[top_node]\n",
    "        self.swap(top_node, last_node)\n",
    "        del self.values[-1]\n",
    "        self.sink(top_node)\n",
    "        \n",
    "        return value\n",
    "        \n",
    "    def remove(self, value):\n",
    "        idx = self.find(value)\n",
    "        if not idx == None:\n",
    "            if idx == len(self) - 1:\n",
    "                del self.values[idx]\n",
    "            else:\n",
    "                self.values[idx] = self.values[-1]\n",
    "                del self.values[-1]\n",
    "                if self.swim(idx) == idx:\n",
    "                    self.sink(idx)\n",
    " \n",
    "    def heapify(self, values):\n",
    "        self.values = values\n",
    "        end = len(self.values) - 1\n",
    "        last_parent = (end-1)//2\n",
    "        while last_parent >= 0:\n",
    "            self.sink(last_parent)\n",
    "            last_parent -= 1\n",
    "            \n",
    "    def swap(self, idx_1, idx_2):\n",
    "        self.values[idx_1], self.values[idx_2] = self.values[idx_2], self.values[idx_1]\n",
    "        \n",
    "    def swim(self, child_idx):\n",
    "        if child_idx == 0:\n",
    "            return child_idx\n",
    "        else:\n",
    "            parent_idx = self.parent(child_idx)\n",
    "            if self.values[child_idx] > self.values[parent_idx]:\n",
    "                self.swap(child_idx, parent_idx)\n",
    "                return self.swim(parent_idx)\n",
    "            else:\n",
    "                return child_idx\n",
    "    \n",
    "    def sink(self, parent_idx):        \n",
    "        left_child = self.left_child(parent_idx)\n",
    "        right_child = self.right_child(parent_idx)\n",
    "        noc = self.number_of_children(left_child, right_child)\n",
    "        \n",
    "        if noc == 0: # At bottom\n",
    "            return parent_idx\n",
    "        elif noc == 1:\n",
    "            child_idx = left_child if not left_child is None else right_child\n",
    "            if self.values[parent_idx] < self.values[child_idx]:\n",
    "                self.swap(parent_idx, child_idx)\n",
    "                return self.sink(child_idx)\n",
    "            else:\n",
    "                return parent_idx\n",
    "        elif noc == 2:\n",
    "            child_idx = left_child if self.values[left_child] > self.values[right_child] else right_child\n",
    "            if self.values[parent_idx] < self.values[child_idx]:\n",
    "                self.swap(parent_idx, child_idx)\n",
    "                return self.sink(child_idx)\n",
    "            else:\n",
    "                return parent_idx\n",
    "     \n",
    "    def number_of_children(self, left_child, right_child):\n",
    "        l = 1 if left_child else 0\n",
    "        r = 1 if right_child else 0\n",
    "        return l + r"
   ]
  },
  {
   "cell_type": "code",
   "execution_count": 206,
   "metadata": {},
   "outputs": [
    {
     "name": "stdout",
     "output_type": "stream",
     "text": [
      "[100, 12, 10, 5, 7]\n"
     ]
    }
   ],
   "source": [
    "mh = MaxHeap()\n",
    "mh.append(10)\n",
    "mh.append(5)\n",
    "mh.append(12)\n",
    "mh.append(7)\n",
    "mh.append(100)\n",
    "\n",
    "print(mh)"
   ]
  },
  {
   "cell_type": "code",
   "execution_count": 207,
   "metadata": {},
   "outputs": [
    {
     "name": "stdout",
     "output_type": "stream",
     "text": [
      "100\n",
      "[12, 7, 10, 5]\n"
     ]
    }
   ],
   "source": [
    "print(mh.pop())\n",
    "print(mh)\n",
    "mh.append(100)"
   ]
  },
  {
   "cell_type": "code",
   "execution_count": 208,
   "metadata": {},
   "outputs": [
    {
     "name": "stdout",
     "output_type": "stream",
     "text": [
      "[12, 7, 10, 5]\n"
     ]
    }
   ],
   "source": [
    "mh.remove(100)\n",
    "print(mh)"
   ]
  },
  {
   "cell_type": "code",
   "execution_count": 192,
   "metadata": {},
   "outputs": [
    {
     "name": "stdout",
     "output_type": "stream",
     "text": [
      "[12, 7, 5]\n"
     ]
    }
   ],
   "source": [
    "mh.remove(10)\n",
    "print(mh)"
   ]
  },
  {
   "cell_type": "code",
   "execution_count": 193,
   "metadata": {},
   "outputs": [],
   "source": [
    "mh = MaxHeap()\n",
    "mh.heapify([4,3,6,7,1,2,8,9])"
   ]
  },
  {
   "cell_type": "code",
   "execution_count": 194,
   "metadata": {},
   "outputs": [
    {
     "name": "stdout",
     "output_type": "stream",
     "text": [
      "[9, 7, 8, 4, 1, 2, 6, 3]\n"
     ]
    }
   ],
   "source": [
    "print(mh)"
   ]
  },
  {
   "cell_type": "code",
   "execution_count": 164,
   "metadata": {},
   "outputs": [],
   "source": [
    "class UnionFind(object):\n",
    "    def __init__(self, size):\n",
    "        self.size = size\n",
    "        self.num_components = size\n",
    "        self.parent = [i for i in range(size)]\n",
    "        self.component_size = [1 for i in range(size)]\n",
    "        \n",
    "    def find(self, node):\n",
    "        parent_node = self.parent[node]\n",
    "        if parent_node != node: # no root\n",
    "            self.parent[node] = self.find(parent_node)\n",
    "        return self.parent[node]\n",
    "    \n",
    "    def union(self, x, y):\n",
    "        x_cluster = self.find(x)\n",
    "        y_cluster = self.find(y)\n",
    "        \n",
    "        if x_cluster != y_cluster:\n",
    "            if self.component_size[x_cluster] > self.component_size[y_cluster]:\n",
    "                self.parent[y_cluster] = x_cluster\n",
    "                self.component_size[x_cluster] += self.component_size[y_cluster]\n",
    "            else:\n",
    "                self.parent[x_cluster] = y_cluster\n",
    "                self.component_size[y_cluster] += self.component_size[x_cluster]\n",
    "                \n",
    "            self.num_components -= 1\n",
    "                \n",
    "    def connected(self, x, y):\n",
    "        self.find(x) == self.find(y)"
   ]
  },
  {
   "cell_type": "code",
   "execution_count": 165,
   "metadata": {},
   "outputs": [],
   "source": [
    "uf = UnionFind(10)"
   ]
  },
  {
   "cell_type": "code",
   "execution_count": 52,
   "metadata": {},
   "outputs": [
    {
     "name": "stdout",
     "output_type": "stream",
     "text": [
      "6\n",
      "[8, 8, 2, 8, 8, 5, 6, 7, 8, 9]\n"
     ]
    }
   ],
   "source": [
    "print(uf.num_components)\n",
    "print(uf.parent)"
   ]
  },
  {
   "cell_type": "code",
   "execution_count": 47,
   "metadata": {},
   "outputs": [],
   "source": [
    "uf.union(0,3)"
   ]
  },
  {
   "cell_type": "code",
   "execution_count": 51,
   "metadata": {},
   "outputs": [
    {
     "data": {
      "text/plain": [
       "8"
      ]
     },
     "execution_count": 51,
     "metadata": {},
     "output_type": "execute_result"
    }
   ],
   "source": [
    "uf.find(0)"
   ]
  },
  {
   "cell_type": "code",
   "execution_count": 8,
   "metadata": {},
   "outputs": [],
   "source": [
    "class BSTNode(object):\n",
    "    def __init__(self, value, left_node=None, right_node=None):\n",
    "        self.value = value\n",
    "        self.left_node = left_node\n",
    "        self.right_node = right_node\n",
    "                           \n",
    "    def is_leaf(self):\n",
    "        return not (self.left_node or self.right_node)\n",
    "    \n",
    "    def is_subtree(self):\n",
    "        return self.left_node and self.right_node\n",
    "    \n",
    "    def __repr__(self):\n",
    "        return \"({}, L {} R {})\". \\\n",
    "            format(self.value, \n",
    "                   self.left_node.value if self.left_node else None, \n",
    "                   self.right_node.value if self.right_node else None)\n",
    "        \n",
    "class BST(object):\n",
    "    def __init__(self):\n",
    "        self.root = None\n",
    "    \n",
    "    def insert(self, value):\n",
    "        self.root = self.__insert(self.root, value)\n",
    "            \n",
    "    def __insert(self, node, value):\n",
    "        if not node:\n",
    "            node = BSTNode(value)\n",
    "        else:\n",
    "            if value <= node.value:\n",
    "                node.left_node = self.__insert(node.left_node, value)\n",
    "            else:\n",
    "                node.right_node = self.__insert(node.right_node, value)\n",
    "        return node\n",
    "            \n",
    "    def find(self, value):\n",
    "        return self.__find(self.root, value)\n",
    "    \n",
    "    def __find(self, node, value):\n",
    "        if not node:\n",
    "            return None\n",
    "        else:\n",
    "            if value == node.value:\n",
    "                return node\n",
    "            if value <= node.value:\n",
    "                return self.__find(node.left_node, value)\n",
    "            else:\n",
    "                return self.__find(node.right_node, value)\n",
    "    \n",
    "    def remove(self, value):\n",
    "        if (self.contains(value)):\n",
    "            self.root = self.__remove(self.root, value)\n",
    "            \n",
    "    def __remove(self, node, value):\n",
    "        if node:\n",
    "            if value < node.value:\n",
    "                node.left_node = self.__remove(node.left_node, value)\n",
    "            elif value > node.value:\n",
    "                node.right_node = self.__remove(node.right_node, value)\n",
    "            else: # the value matches\n",
    "                if node.is_leaf():\n",
    "                    node = None\n",
    "                elif node.is_subtree():\n",
    "                    minNode = self.__findMin(node.right_node)\n",
    "                    node.value = minNode.value\n",
    "                    node.right_node = self.__remove(node.right_node, minNode.value)\n",
    "                elif node.has_left_child():\n",
    "                    node = node.left_node\n",
    "                else:\n",
    "                    node = node.right_node\n",
    "            \n",
    "        return node\n",
    "    \n",
    "    def __findMin(self, node):\n",
    "        return node if not node.left_node else self_findMin(node.left_node)\n",
    "    \n",
    "    def contains(self, value):\n",
    "        return not self.find(value) is None\n",
    "    \n",
    "    def height(self):\n",
    "        return self.__height(self.root)\n",
    "        \n",
    "    def __height(self, node):\n",
    "        if not node:\n",
    "            return 0\n",
    "        else:\n",
    "            return 1 + max(self.__height(node.left_node), self.__height(node.right_node))\n",
    "        \n",
    "    def is_empty(self):\n",
    "        return not self.root\n",
    "    \n",
    "    def __repr__(self):\n",
    "        strings = []\n",
    "        q = Queue()\n",
    "        q.enqueue(self.root)\n",
    "        while not q.is_empty():\n",
    "            node = q.dequeue()\n",
    "            if not node is None:\n",
    "                strings.append(str(node))\n",
    "                q.enqueue(node.left_node)\n",
    "                q.enqueue(node.right_node)\n",
    "                \n",
    "        return \"\".join(strings)"
   ]
  },
  {
   "cell_type": "code",
   "execution_count": 9,
   "metadata": {},
   "outputs": [
    {
     "name": "stdout",
     "output_type": "stream",
     "text": [
      "(10, L 6 R 11)(6, L 4 R 7)(11, L None R 12)(4, L None R None)(7, L None R None)(12, L None R 13)(13, L None R 14)(14, L None R None)\n"
     ]
    }
   ],
   "source": [
    "bst = BST()\n",
    "bst.insert(10)\n",
    "bst.insert(6)\n",
    "bst.insert(4)\n",
    "bst.insert(7)\n",
    "bst.insert(11)\n",
    "bst.insert(12)\n",
    "bst.insert(13)\n",
    "bst.insert(14)\n",
    "\n",
    "print(bst)"
   ]
  },
  {
   "cell_type": "code",
   "execution_count": 10,
   "metadata": {},
   "outputs": [
    {
     "name": "stdout",
     "output_type": "stream",
     "text": [
      "5\n"
     ]
    }
   ],
   "source": [
    "print(bst.height())"
   ]
  },
  {
   "cell_type": "code",
   "execution_count": 11,
   "metadata": {},
   "outputs": [
    {
     "name": "stdout",
     "output_type": "stream",
     "text": [
      "True\n"
     ]
    }
   ],
   "source": [
    "print(bst.find(14).is_leaf())"
   ]
  },
  {
   "cell_type": "code",
   "execution_count": 12,
   "metadata": {},
   "outputs": [
    {
     "name": "stdout",
     "output_type": "stream",
     "text": [
      "True\n"
     ]
    }
   ],
   "source": [
    "print(bst.contains(14))"
   ]
  },
  {
   "cell_type": "code",
   "execution_count": 13,
   "metadata": {},
   "outputs": [
    {
     "name": "stdout",
     "output_type": "stream",
     "text": [
      "(10, L 6 R 11)(6, L 4 R 7)(11, L None R 12)(4, L None R None)(7, L None R None)(12, L None R 13)(13, L None R None)\n"
     ]
    }
   ],
   "source": [
    "bst.remove(14)\n",
    "print(bst)"
   ]
  },
  {
   "cell_type": "code",
   "execution_count": 14,
   "metadata": {},
   "outputs": [
    {
     "name": "stdout",
     "output_type": "stream",
     "text": [
      "(10, L 7 R 11)(7, L 4 R None)(11, L None R 12)(4, L None R None)(12, L None R 13)(13, L None R None)\n"
     ]
    }
   ],
   "source": [
    "bst.remove(6)\n",
    "print(bst)"
   ]
  },
  {
   "cell_type": "code",
   "execution_count": 15,
   "metadata": {},
   "outputs": [],
   "source": [
    "# Fill in rest from Binary Heap\n",
    "class IndexedHeap(object):\n",
    "    def __init__(self):\n",
    "        self.values = []\n",
    "        self.pm = []\n",
    "        self.im = []\n",
    "        self.lookup = {}\n",
    "        self.reverse_lookup = {}\n",
    "        \n",
    "    def insert(self, key, value):\n",
    "        ki = self.__register(key)\n",
    "        position = len(self.values) # insert at end\n",
    "        self.values.append(value)\n",
    "        self.pm.append(position)\n",
    "        self.im.append(ki)\n",
    "        #swim\n",
    "    \n",
    "    def __register(self, key):\n",
    "        ki = len(self.values)\n",
    "        self.lookup[key] = ki\n",
    "        self.reverse_lookup[ki] = key\n",
    "        return ki\n",
    "               \n",
    "    def __lookup_key_index(self, key):\n",
    "            return self.lookup[key]\n",
    "    \n",
    "    def __lookup_key(self, key_index):\n",
    "            return self.reverse_lookup[key_index]\n",
    "\n",
    "    def __left_child(self, parent_idx):\n",
    "        child_idx = 2 * parent_idx + 1\n",
    "        return child_idx if child_idx <= len(self) - 1 else None\n",
    "        \n",
    "    def __right_child(self, parent_idx):\n",
    "        child_idx = 2 * parent_idx + 2\n",
    "        return child_idx if child_idx <= len(self) - 1 else None\n",
    "    \n",
    "    def __parent(self, child_idx):\n",
    "        if child_idx <= len(self) - 1:\n",
    "            parent_idx = (child_idx - 1)//2\n",
    "            return parent_idx\n",
    "        else:\n",
    "            return None\n",
    "        \n",
    "    def __swim(self, child_node):\n",
    "        if child_node == 0:\n",
    "            return child_node\n",
    "        else:\n",
    "            parent_node = self.__parent(child_node)\n",
    "            if self.__get_value_for_node(child_node) > self.__get_value_for_node(parent_node):\n",
    "                self.__swap_nodes(child, parent)\n",
    "                return self.__swim(parent_node)\n",
    "            else:\n",
    "                return child_node\n",
    "        \n",
    "    def __sink(self, parent_node):\n",
    "        left_child = self.__left_child(parent_node)\n",
    "        right_child = self.__right_child(parent_node)\n",
    "        noc = self.__number_of_children(left_child, right_child)\n",
    "        \n",
    "        if noc == 0: # At bottom\n",
    "            return parent_node\n",
    "        else:\n",
    "            if noc == 1:\n",
    "                child_node = left_child if left_child else right_child\n",
    "            elif noc == 2:\n",
    "                child_node = left_child if self.__get_value_for_node(left_child) > self.__get_value_for_node(right_child) else right_child\n",
    "            \n",
    "            if self.__get_value_for_node(parent_node) < self.__get_value_for_node(child_node):\n",
    "                self.swap(parent_node, child_node)\n",
    "                return self.sink(child_node)\n",
    "            else:\n",
    "                return parent_node      \n",
    "    \n",
    "    def __increase_key(self, key, value):\n",
    "        pass\n",
    "    \n",
    "    def __decrease_key(self, key, value):\n",
    "        pass\n",
    "    \n",
    "    def __get_value_for_node(self, node):\n",
    "        ki = self.im[node]\n",
    "        return self.values[ki]\n",
    "        \n",
    "    def __swap_nodes(self, x, y):\n",
    "        # look up the ki's\n",
    "        ki_x = self.im[x]\n",
    "        ki_y = self.im[y]\n",
    "                \n",
    "        # swap the pm entries\n",
    "        self.pm[ki_x] = y\n",
    "        self.pm[ki_y] = x\n",
    "        \n",
    "        # swap the value entries\n",
    "        self.values[ki_x], self.values[ki_y] = self.values[ki_y], self.values[ki_x]\n",
    "        \n",
    "        # swap the im entries\n",
    "        self.im[x] = ki_y        \n",
    "        self.im[y] = ki_x\n",
    "\n",
    "    def __number_of_children(self, left_child, right_child):\n",
    "        l = 1 if left_child else 0\n",
    "        r = 1 if right_child else 0\n",
    "        return l + r\n",
    "    \n",
    "    def __len__(self):\n",
    "        return len(self.values)\n",
    "    \n",
    "    def __repr__(self):\n",
    "        strings = \"lookup: {}\\nreverse; {}\\nvalues: {}\\npm: {}\\nim: {}\".format(self.lookup, self.reverse_lookup, self.values, self.pm, self.im)\n",
    "        return strings\n"
   ]
  },
  {
   "cell_type": "code",
   "execution_count": 150,
   "metadata": {},
   "outputs": [],
   "source": [
    "ih = IndexedHeap()\n",
    "ih.insert(\"Jan\", 5)\n",
    "ih.insert(\"Kees\", 8)"
   ]
  },
  {
   "cell_type": "code",
   "execution_count": 151,
   "metadata": {},
   "outputs": [
    {
     "data": {
      "text/plain": [
       "lookup: {'Jan': 0, 'Kees': 1}\n",
       "reverse; {0: 'Jan', 1: 'Kees'}\n",
       "values: [5, 8]\n",
       "pm: [0, 1]\n",
       "im: [0, 1]"
      ]
     },
     "execution_count": 151,
     "metadata": {},
     "output_type": "execute_result"
    }
   ],
   "source": [
    "ih"
   ]
  },
  {
   "cell_type": "code",
   "execution_count": 185,
   "metadata": {},
   "outputs": [
    {
     "name": "stdout",
     "output_type": "stream",
     "text": [
      "Ja\n"
     ]
    }
   ],
   "source": [
    "# Number of substrings: take all the prefix strings of all the suffix strings. n(n+1)/2 - Sum of LCP"
   ]
  },
  {
   "cell_type": "code",
   "execution_count": 42,
   "metadata": {},
   "outputs": [],
   "source": [
    "# Naive n2logn implementation\n",
    "def generate_suffix_array(value):\n",
    "    suffix_array = [i for i in range(len(value))]\n",
    "    suffix_array = sorted(suffix_array, key=lambda x: value[x:])\n",
    "    return suffix_array\n",
    "\n",
    "def pretty_suffix_array(indices, value):\n",
    "    return [value[idx:] for idx in indices] "
   ]
  },
  {
   "cell_type": "code",
   "execution_count": 43,
   "metadata": {},
   "outputs": [
    {
     "name": "stdout",
     "output_type": "stream",
     "text": [
      "[0, 1, 2]\n"
     ]
    }
   ],
   "source": [
    "print(generate_suffix_array(\"abc\"))"
   ]
  },
  {
   "cell_type": "code",
   "execution_count": 44,
   "metadata": {},
   "outputs": [
    {
     "name": "stdout",
     "output_type": "stream",
     "text": [
      "[1, 0, 2, 3, 4]\n",
      "['ello', 'hello', 'llo', 'lo', 'o']\n"
     ]
    }
   ],
   "source": [
    "sa = generate_suffix_array(\"hello\")\n",
    "print(sa)\n",
    "print(pretty_suffix_array(sa, \"hello\"))"
   ]
  },
  {
   "cell_type": "code",
   "execution_count": 47,
   "metadata": {},
   "outputs": [],
   "source": [
    "# Generate LCP array\n",
    "def find_prefix_length(x, y, value):\n",
    "    max_length = len(value) - max(x,y)\n",
    "    length = 0\n",
    "    i = 0\n",
    "    while i < max_length:\n",
    "        if not value[x + i] == value[y + i]: break\n",
    "        else:\n",
    "            length +=1\n",
    "            i += 1\n",
    "    return length\n",
    "    \n",
    "def generate_lcp_array(value, suffix_array=None):\n",
    "    if suffix_array is None:\n",
    "        suffix_array = generate_suffix_array(value)\n",
    "    lcp_array = [0] + [find_prefix_length(suffix_array[i-1], suffix_array[i], value) for i in range(1, len(value))]\n",
    "    return lcp_array"
   ]
  },
  {
   "cell_type": "code",
   "execution_count": 48,
   "metadata": {},
   "outputs": [
    {
     "name": "stdout",
     "output_type": "stream",
     "text": [
      "[0, 0, 0, 1, 0]\n"
     ]
    }
   ],
   "source": [
    "print(generate_lcp_array(\"hello\"))"
   ]
  },
  {
   "cell_type": "code",
   "execution_count": 54,
   "metadata": {},
   "outputs": [],
   "source": [
    "# Find longest repeated substring\n",
    "def argmax(values):\n",
    "    tmp = [(idx, value) for idx, value in enumerate(values)]\n",
    "    tmp = sorted(tmp, key = lambda x: x[1], reverse=True)\n",
    "    largest_value = tmp[0][1]\n",
    "    tmp = [entry[0] for entry in tmp if entry[1] >= largest_value]\n",
    "    return tmp\n",
    "\n",
    "def longest_repeated_substring(value):\n",
    "    sa = generate_suffix_array(value)\n",
    "    lcp = generate_lcp_array(value, sa)\n",
    "    am = argmax(lcp)\n",
    "    substrings = [value[sa[idx]:sa[idx] + lcp[idx]] for idx in am]\n",
    "    return substrings\n",
    "    "
   ]
  },
  {
   "cell_type": "code",
   "execution_count": 56,
   "metadata": {},
   "outputs": [
    {
     "name": "stdout",
     "output_type": "stream",
     "text": [
      "['abra']\n"
     ]
    }
   ],
   "source": [
    "print(longest_repeated_substring(\"abracadabra\"))"
   ]
  },
  {
   "cell_type": "code",
   "execution_count": 109,
   "metadata": {},
   "outputs": [
    {
     "name": "stdout",
     "output_type": "stream",
     "text": [
      "text aabc;bcdc:bcde|cded$   20\n",
      "suffix array [19, 9, 4, 0, 1, 2, 5, 10, 8, 3, 6, 15, 11, 18, 7, 16, 12, 17, 13, 14]\n",
      "suffix colors [3, 1, 0, 0, 0, 0, 1, 2, 1, 0, 1, 3, 2, 3, 1, 3, 2, 3, 2, 2] 20\n",
      "lcs [0, 0, 0, 0, 1, 0, 2, 3, 0, 1, 1, 2, 3, 0, 1, 1, 2, 0, 1, 0]\n",
      "4 4 [1] [1, 0, 0, 0] False\n",
      "4 5 [1, 0] [2, 0, 0, 0] False\n",
      "4 6 [1, 0, 2] [2, 1, 0, 0] True\n",
      "5 6 [0, 2] [1, 1, 0, 0] True\n",
      "6 6 [2] [0, 1, 0, 0] False\n",
      "6 7 [2, 3] [0, 1, 1, 0] True\n",
      "7 7 [3] [0, 0, 1, 0] False\n",
      "7 8 [3, 0] [0, 1, 1, 0] True\n",
      "8 8 [0] [0, 1, 0, 0] False\n",
      "8 9 [0, 1] [1, 1, 0, 0] True\n",
      "9 9 [1] [1, 0, 0, 0] False\n",
      "9 10 [1, 1] [1, 1, 0, 0] True\n",
      "10 10 [1] [0, 1, 0, 0] False\n",
      "10 11 [1, 2] [0, 1, 0, 1] True\n",
      "11 11 [2] [0, 0, 0, 1] False\n",
      "11 12 [2, 3] [0, 0, 1, 1] True\n",
      "12 12 [3] [0, 0, 1, 0] False\n",
      "12 13 [3, 0] [0, 0, 1, 1] True\n",
      "13 13 [0] [0, 0, 0, 1] False\n",
      "13 14 [0, 1] [0, 1, 0, 1] True\n",
      "14 14 [1] [0, 1, 0, 0] False\n",
      "14 15 [1, 1] [0, 1, 0, 1] True\n",
      "15 15 [1] [0, 0, 0, 1] False\n",
      "15 16 [1, 2] [0, 0, 1, 1] True\n",
      "16 16 [2] [0, 0, 1, 0] False\n",
      "16 17 [2, 0] [0, 0, 1, 1] True\n",
      "17 17 [0] [0, 0, 0, 1] False\n",
      "17 18 [0, 1] [0, 0, 1, 1] True\n",
      "18 18 [1] [0, 0, 1, 0] False\n",
      "18 19 [1, 0] [0, 0, 2, 0] False\n",
      "(3, ['bcd', 'cde'])\n"
     ]
    }
   ],
   "source": [
    "import itertools\n",
    "\n",
    "separators = [';', ':', '|', '$']\n",
    "\n",
    "def satisfies_colors(color_counts, k):\n",
    "    checks = [count >= 1 for count in color_counts]\n",
    "    return sum(checks) >= k\n",
    "\n",
    "def lcs(values, k):\n",
    "    n_strings = len(values)\n",
    "    text = \"\".join([x for t in zip(values, separators) for x in t])\n",
    "\n",
    "    sa = generate_suffix_array(text)\n",
    "    lcs = generate_lcp_array(text, sa)\n",
    "    \n",
    "    color_lookup = [idxs for idx, value in enumerate(values) for idxs in itertools.repeat(idx, len(value) + 1)]\n",
    "    suffix_colors = [color_lookup[suffix] for suffix in sa]\n",
    "    color_counts = [0 for _ in range(n_strings)]\n",
    "    \n",
    "    print('text', text,' ', len(text))\n",
    "    print('suffix array', sa)\n",
    "    print('suffix colors', suffix_colors, len(suffix_colors))\n",
    "    print('lcs', lcs)\n",
    "\n",
    "    start = n_strings\n",
    "    end = n_strings\n",
    "                    \n",
    "    color_counts[suffix_colors[start]] = color_counts[suffix_colors[start]] + 1\n",
    "    \n",
    "    max_sequence = 0\n",
    "    sequences = []\n",
    "    \n",
    "    while True:\n",
    "        print(start, end, lcs[start:end+1], color_counts, complete_colors(color_counts, k))\n",
    "        if satisfies_colors(color_counts, k):\n",
    "            # Query minimal lcs length\n",
    "            lcs_window = lcs[start:end+1]\n",
    "            range_query = min(lcs_window[1:]) # ignore the first element\n",
    "            \n",
    "            # Is length better than previous?\n",
    "            if range_query >= max_sequence:\n",
    "                \n",
    "                # Get the prefix itself\n",
    "                sa_window = sa[start:end+1]\n",
    "                index = lcs_window.index(range_query) # So, which element to take?\n",
    "                sequence = text[sa_window[index]: sa_window[index] + range_query]\n",
    "                \n",
    "                # Append or overwrite the current sequences?\n",
    "                if range_query == max_sequence:\n",
    "                    sequences.append(sequence)   \n",
    "                else:\n",
    "                    sequences = [sequence]\n",
    "                    max_sequence = range_query\n",
    "            \n",
    "            # Update the window\n",
    "            color_counts[suffix_colors[start]] = color_counts[suffix_colors[start]] - 1\n",
    "            start = start + 1\n",
    "        else:\n",
    "            # Expand the window downwards to get more colors\n",
    "            end += 1\n",
    "            if end < len(text):\n",
    "                color = suffix_colors[end]\n",
    "                color_counts[color] = color_counts[color] + 1\n",
    "            else:\n",
    "                # A the end if the text\n",
    "                break\n",
    "        \n",
    "    return max_sequence, sequences\n",
    "values = ['aabc', 'bcdc', 'bcde', 'cded']\n",
    "print(lcs(values, 2))"
   ]
  },
  {
   "cell_type": "code",
   "execution_count": 68,
   "metadata": {},
   "outputs": [
    {
     "data": {
      "text/plain": [
       "'e'"
      ]
     },
     "execution_count": 68,
     "metadata": {},
     "output_type": "execute_result"
    }
   ],
   "source": [
    "\"abcde\"[4:5]"
   ]
  },
  {
   "cell_type": "code",
   "execution_count": 44,
   "metadata": {},
   "outputs": [],
   "source": [
    "class AVLNode(object):\n",
    "    def __init__(self, value, left_node=None, right_node=None):\n",
    "        self.value = value\n",
    "        self.left_node = left_node\n",
    "        self.right_node = right_node\n",
    "        self.height = 0 #to furthest leaf in edges\n",
    "        self.balance_factor = 0 # right - left\n",
    "    \n",
    "    def update(self):\n",
    "        lh = self.left_node.height if self.left_node else -1\n",
    "        rh = self.right_node.height if self.right_node else -1\n",
    "        \n",
    "        self.height = 1 + max(lh, rh)\n",
    "        self.balance_factor = rh - lh\n",
    "\n",
    "    def is_leaf(self):\n",
    "        return not (self.left_node or self.right_node)\n",
    "    \n",
    "    def is_subtree(self):\n",
    "        return self.left_node and self.right_node\n",
    "    \n",
    "    def __repr__(self):\n",
    "        return \"({}, L {} R {}, H {} B {})\". \\\n",
    "            format(self.value, \n",
    "                   self.left_node.value if self.left_node else None, \n",
    "                   self.right_node.value if self.right_node else None,\n",
    "                   self.height, self.balance_factor)\n",
    "        \n",
    "class AVL(object):\n",
    "    def __init__(self):\n",
    "        self.root = None\n",
    "        self.node_count = 0\n",
    "    \n",
    "    def insert(self, value):\n",
    "        if value:\n",
    "            if not self.contains(value):\n",
    "                self.root = self.__insert(self.root, value)\n",
    "                self.node_count += 1\n",
    "                return True\n",
    "            \n",
    "        return False\n",
    "            \n",
    "    def __insert(self, node, value):\n",
    "        if not node:\n",
    "            node = AVLNode(value)\n",
    "        else:\n",
    "            if value <= node.value:\n",
    "                node.left_node = self.__insert(node.left_node, value)\n",
    "            else:\n",
    "                node.right_node = self.__insert(node.right_node, value)\n",
    "        \n",
    "        # Update the balance and height\n",
    "        node.update()\n",
    "        \n",
    "        return self.balance(node)\n",
    "    \n",
    "    def balance(self, node):\n",
    "        if node.balance_factor == -2:\n",
    "            if node.left_node.balance_factor <=0:\n",
    "                return self.left_left(node)\n",
    "            else:\n",
    "                return self.left_right(node)      \n",
    "        elif node.balance_factor == +2:\n",
    "            if node.right_node.balance_factor >= 0:\n",
    "                return self.right_right(node)\n",
    "            else:\n",
    "                return self.right_left(node)\n",
    "            \n",
    "        return node\n",
    "    \n",
    "    def left_left(self, node):\n",
    "        return self.rotate_right(node)\n",
    "    \n",
    "    def left_right(self, node):\n",
    "        node.left_node = self.rotate_left(node.left_node)\n",
    "        return self.rotate_right(node)\n",
    "    \n",
    "    def right_right(self, node):\n",
    "        return self.rotate_left(node)\n",
    "\n",
    "    def right_left(self, node):\n",
    "        node.right_node = self.rotate_right(node.right_node)\n",
    "        return self.rotate_left(node)\n",
    "    \n",
    "    def rotate_right(self, a):\n",
    "        print(a)\n",
    "        b = a.left_node\n",
    "        a.left_node = b.right_node\n",
    "        b.right_node = a\n",
    "        \n",
    "        a.update()\n",
    "        b.update()\n",
    "        \n",
    "        return b\n",
    "        \n",
    "    def rotate_left(self, a):\n",
    "        c = a.right_node\n",
    "        a.right_node = c.left_node\n",
    "        c.left_node = a\n",
    "        \n",
    "        a.update()\n",
    "        c.update()\n",
    "        \n",
    "        return c\n",
    "        \n",
    "    def find(self, value):\n",
    "        return self.__find(self.root, value)\n",
    "    \n",
    "    def __find(self, node, value):\n",
    "        if not node:\n",
    "            return None\n",
    "        else:\n",
    "            if value == node.value:\n",
    "                return node\n",
    "            if value <= node.value:\n",
    "                return self.__find(node.left_node, value)\n",
    "            else:\n",
    "                return self.__find(node.right_node, value)\n",
    "    \n",
    "    def remove(self, value):\n",
    "        if (self.contains(value)):\n",
    "            self.root = self.__remove(self.root, value)\n",
    "            \n",
    "    def __remove(self, node, value):\n",
    "        if node:\n",
    "            if value < node.value:\n",
    "                node.left_node = self.__remove(node.left_node, value)\n",
    "            elif value > node.value:\n",
    "                node.right_node = self.__remove(node.right_node, value)\n",
    "            else: # the value matches\n",
    "                if node.is_leaf():\n",
    "                    node = None\n",
    "                elif node.is_subtree():\n",
    "                    minNode = self.__findMin(node.right_node)\n",
    "                    node.value = minNode.value\n",
    "                    node.right_node = self.__remove(node.right_node, minNode.value)\n",
    "                elif node.has_left_child():\n",
    "                    node = node.left_node\n",
    "                else:\n",
    "                    node = node.right_node\n",
    "                    \n",
    "                self.node_count -= 1\n",
    "        \n",
    "        node.update()\n",
    "        return self.balance(node)\n",
    "    \n",
    "    def __findMin(self, node):\n",
    "        return node if not node.left_node else self_findMin(node.left_node)\n",
    "    \n",
    "    def contains(self, value):\n",
    "        return not self.find(value) is None\n",
    "    \n",
    "    def height(self):\n",
    "        return self.__height(self.root)\n",
    "        \n",
    "    def __height(self, node):\n",
    "        if not node:\n",
    "            return 0\n",
    "        else:\n",
    "            return 1 + max(self.__height(node.left_node), self.__height(node.right_node))\n",
    "        \n",
    "    def is_empty(self):\n",
    "        return not self.root\n",
    "    \n",
    "    def __repr__(self):\n",
    "        strings = []\n",
    "        q = Queue()\n",
    "        q.enqueue(self.root)\n",
    "        while not q.is_empty():\n",
    "            node = q.dequeue()\n",
    "            if not node is None:\n",
    "                strings.append(str(node))\n",
    "                q.enqueue(node.left_node)\n",
    "                q.enqueue(node.right_node)\n",
    "                \n",
    "        return \"\".join(strings)"
   ]
  },
  {
   "cell_type": "code",
   "execution_count": 45,
   "metadata": {},
   "outputs": [
    {
     "data": {
      "text/plain": [
       "True"
      ]
     },
     "execution_count": 45,
     "metadata": {},
     "output_type": "execute_result"
    }
   ],
   "source": [
    "avl = AVL()\n",
    "avl.insert(1)\n",
    "avl.insert(2)\n",
    "avl.insert(3)\n",
    "avl.insert(4)\n",
    "avl.insert(5)\n",
    "avl.insert(6)\n",
    "\n"
   ]
  },
  {
   "cell_type": "code",
   "execution_count": 46,
   "metadata": {},
   "outputs": [
    {
     "name": "stdout",
     "output_type": "stream",
     "text": [
      "(4, L 2 R 5, H 2 B 0)(2, L 1 R 3, H 1 B 0)(5, L None R 6, H 1 B 1)(1, L None R None, H 0 B 0)(3, L None R None, H 0 B 0)(6, L None R None, H 0 B 0)\n"
     ]
    }
   ],
   "source": [
    "print(avl)"
   ]
  },
  {
   "cell_type": "code",
   "execution_count": 24,
   "metadata": {},
   "outputs": [
    {
     "data": {
      "text/plain": [
       "True"
      ]
     },
     "execution_count": 24,
     "metadata": {},
     "output_type": "execute_result"
    }
   ],
   "source": [
    "avl.root == None"
   ]
  },
  {
   "cell_type": "code",
   "execution_count": 31,
   "metadata": {},
   "outputs": [
    {
     "name": "stdout",
     "output_type": "stream",
     "text": [
      "(1, L None R None, H 0 B 0)\n"
     ]
    },
    {
     "data": {
      "text/plain": [
       "True"
      ]
     },
     "execution_count": 31,
     "metadata": {},
     "output_type": "execute_result"
    }
   ],
   "source": [
    "avl = AVL()\n",
    "avl.insert(1)"
   ]
  },
  {
   "cell_type": "code",
   "execution_count": 22,
   "metadata": {},
   "outputs": [],
   "source": [
    "def down_by_lsb(x):\n",
    "    while x != 0:\n",
    "        print(x)\n",
    "        lsb = x & -x\n",
    "        x = x - lsb"
   ]
  },
  {
   "cell_type": "code",
   "execution_count": 23,
   "metadata": {},
   "outputs": [
    {
     "name": "stdout",
     "output_type": "stream",
     "text": [
      "15\n",
      "14\n",
      "12\n",
      "8\n"
     ]
    }
   ],
   "source": [
    "down_by_lsb(15)"
   ]
  },
  {
   "cell_type": "code",
   "execution_count": 24,
   "metadata": {},
   "outputs": [],
   "source": [
    "def get_parent(x):\n",
    "    return x + (x & -x)"
   ]
  },
  {
   "cell_type": "code",
   "execution_count": 25,
   "metadata": {},
   "outputs": [
    {
     "data": {
      "text/plain": [
       "8"
      ]
     },
     "execution_count": 25,
     "metadata": {},
     "output_type": "execute_result"
    }
   ],
   "source": [
    "get_parent(7)"
   ]
  },
  {
   "cell_type": "code",
   "execution_count": 65,
   "metadata": {},
   "outputs": [],
   "source": [
    "from copy import deepcopy\n",
    "\n",
    "class FennWick(object):\n",
    "    def __init__(self, values):\n",
    "        self.N = len(values)\n",
    "        self.values = values\n",
    "        self.tree = self.build_tree(values)\n",
    "        \n",
    "    def build_tree(self, values):\n",
    "        tree = deepcopy(values)\n",
    "        for idx in range(1, self.N): # one based\n",
    "            parent_idx = self.get_parent(idx)\n",
    "            if parent_idx <= self.N:\n",
    "                tree[parent_idx-1] += tree[idx - 1]\n",
    "        return tree\n",
    "\n",
    "    def update(self, idx, value):\n",
    "        difference = value - self.values[idx-1] \n",
    "        self.values[idx-1] = value\n",
    "        while idx <= self.N:\n",
    "            self.tree[idx-1] = self.tree[idx-1] + difference\n",
    "            idx = self.get_parent(idx)\n",
    "    \n",
    "    def query(self, idx):\n",
    "        value = 0\n",
    "        while idx > 0:\n",
    "            value += self.tree[idx]\n",
    "            idx = self.get_child(idx)\n",
    "        return value\n",
    "        \n",
    "    def get_parent(self, x):\n",
    "        return x + (x & -x)\n",
    "    \n",
    "    def get_child(self, x):\n",
    "        return x - (x & -x)"
   ]
  },
  {
   "cell_type": "code",
   "execution_count": null,
   "metadata": {},
   "outputs": [],
   "source": []
  },
  {
   "cell_type": "code",
   "execution_count": 68,
   "metadata": {},
   "outputs": [
    {
     "name": "stdout",
     "output_type": "stream",
     "text": [
      "[3, 7, -2, 12, 3, 14, 5, 23, -9, -7, 4, -11]\n",
      "[3, 4, -2, 7, 3, 11, 5, -8, -9, 2, 4, -8]\n"
     ]
    }
   ],
   "source": [
    "fw = FennWick([3, 4, -2, 7, 3, 11, 5, -8, -9, 2, 4, -8])\n",
    "#fw.update(1, 3)\n",
    "print(fw.tree)\n",
    "print(fw.values)"
   ]
  },
  {
   "cell_type": "code",
   "execution_count": 67,
   "metadata": {},
   "outputs": [
    {
     "data": {
      "text/plain": [
       "31"
      ]
     },
     "execution_count": 67,
     "metadata": {},
     "output_type": "execute_result"
    }
   ],
   "source": [
    "fw.query(7)"
   ]
  },
  {
   "cell_type": "code",
   "execution_count": null,
   "metadata": {},
   "outputs": [],
   "source": []
  }
 ],
 "metadata": {
  "kernelspec": {
   "display_name": "Python 3",
   "language": "python",
   "name": "python3"
  },
  "language_info": {
   "codemirror_mode": {
    "name": "ipython",
    "version": 3
   },
   "file_extension": ".py",
   "mimetype": "text/x-python",
   "name": "python",
   "nbconvert_exporter": "python",
   "pygments_lexer": "ipython3",
   "version": "3.8.2"
  }
 },
 "nbformat": 4,
 "nbformat_minor": 4
}
