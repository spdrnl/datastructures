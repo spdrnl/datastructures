{
 "cells": [
  {
   "cell_type": "code",
   "execution_count": null,
   "metadata": {},
   "outputs": [],
   "source": [
    "string = \"hello$\""
   ]
  },
  {
   "cell_type": "code",
   "execution_count": 7,
   "metadata": {},
   "outputs": [
    {
     "data": {
      "text/plain": [
       "[0, 2, 4, 4, 5, 6, 6, 7, 7, 7]"
      ]
     },
     "execution_count": 7,
     "metadata": {},
     "output_type": "execute_result"
    }
   ],
   "source": [
    "def reduce_list(f, lst, x=0): \n",
    "    prev = x\n",
    "    for i in lst: \n",
    "        prev = f(prev, i)\n",
    "        yield prev\n",
    "    \n",
    "numbers = [1,4,1,2,7,5,2]\n",
    "counts = [0] * 10 # 0..9\n",
    "for n in numbers:\n",
    "    counts[n] += 1\n",
    "cumulative_counts = list(reduce_list(lambda x, y: x + y, counts, 0))\n",
    "cumulative_counts"
   ]
  },
  {
   "cell_type": "code",
   "execution_count": 11,
   "metadata": {},
   "outputs": [
    {
     "name": "stdout",
     "output_type": "stream",
     "text": [
      "[-1, 1, -1, -1, -1, -1, -1]\n",
      "[-1, 1, -1, -1, 4, -1, -1]\n",
      "[1, 1, -1, -1, 4, -1, -1]\n",
      "[1, 1, -1, 2, 4, -1, -1]\n",
      "[1, 1, -1, 2, 4, -1, 7]\n",
      "[1, 1, -1, 2, 4, 5, 7]\n",
      "[1, 1, 2, 2, 4, 5, 7]\n"
     ]
    },
    {
     "data": {
      "text/plain": [
       "[1, 1, 2, 2, 4, 5, 7]"
      ]
     },
     "execution_count": 11,
     "metadata": {},
     "output_type": "execute_result"
    }
   ],
   "source": [
    "sorted = [-1] * len(numbers)\n",
    "for n in numbers:\n",
    "    position = cumulative_counts[n]\n",
    "    while True:\n",
    "        if sorted[position - 1] == -1: # Note one based\n",
    "            sorted[position - 1] = n\n",
    "            break\n",
    "        position -= 1\n",
    "sorted"
   ]
  },
  {
   "cell_type": "code",
   "execution_count": null,
   "metadata": {},
   "outputs": [],
   "source": []
  }
 ],
 "metadata": {
  "kernelspec": {
   "display_name": "Python 3",
   "language": "python",
   "name": "python3"
  },
  "language_info": {
   "codemirror_mode": {
    "name": "ipython",
    "version": 3
   },
   "file_extension": ".py",
   "mimetype": "text/x-python",
   "name": "python",
   "nbconvert_exporter": "python",
   "pygments_lexer": "ipython3",
   "version": "3.8.2"
  }
 },
 "nbformat": 4,
 "nbformat_minor": 4
}
