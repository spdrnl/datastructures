{
 "cells": [
  {
   "cell_type": "code",
   "execution_count": 12,
   "metadata": {},
   "outputs": [],
   "source": [
    "# DFS using user defined stack\n",
    "class Tree(object):\n",
    "    def __init__(self, values):\n",
    "        self.values = values\n",
    "    \n",
    "    def v(self, node):\n",
    "        if node < len(self.values): return self.values[node]\n",
    "    \n",
    "    def lv(self, parent):\n",
    "        lc = 2*parent+1\n",
    "        if lc < len(self.values): return self.values[lc]\n",
    "        else: return None\n",
    "    \n",
    "    def rv(self, parent):\n",
    "        rc = 2*parent+2\n",
    "        if rc < len(self.values):return self.values[rc]\n",
    "        else: return None\n",
    "        \n",
    "    def __len__(self):\n",
    "        return len(self.values)\n",
    "    "
   ]
  },
  {
   "cell_type": "code",
   "execution_count": 18,
   "metadata": {},
   "outputs": [
    {
     "name": "stdout",
     "output_type": "stream",
     "text": [
      "0\n",
      "1\n",
      "3\n",
      "7\n",
      "8\n",
      "4\n",
      "9\n",
      "10\n",
      "2\n",
      "5\n",
      "11\n",
      "12\n",
      "6\n",
      "13\n",
      "14\n"
     ]
    }
   ],
   "source": [
    "tree = Tree(list(range(15)))\n",
    "stack = []\n",
    "trace = [0] * len(tree)\n",
    "stack.append(tree.v(0))\n",
    "while len(stack) > 0:\n",
    "    node = stack.pop()\n",
    "    print(node)\n",
    " \n",
    "    rv = tree.rv(node)\n",
    "    if rv and not trace[rv]: \n",
    "        stack.append(rv)\n",
    "        trace[rv] = node\n",
    "        \n",
    "    lv = tree.lv(node)\n",
    "    if lv and not trace[lv]: \n",
    "        stack.append(lv)\n",
    "        trace[lv] = node"
   ]
  },
  {
   "cell_type": "markdown",
   "metadata": {},
   "source": [
    "## Connected components with DFS"
   ]
  },
  {
   "cell_type": "code",
   "execution_count": 72,
   "metadata": {},
   "outputs": [],
   "source": [
    "# Detect connected components\n",
    "n_nodes = 18\n",
    "adjency_list = [[] for _ in range(n_nodes)]\n",
    "\n",
    "adjency_list[6] = [7, 11]\n",
    "adjency_list[7] = [6, 11]\n",
    "adjency_list[11] = [7, 6]\n",
    "\n",
    "adjency_list[12] = []\n",
    "\n",
    "adjency_list[4] = [8, 0]\n",
    "adjency_list[8] = [4, 0, 14]\n",
    "adjency_list[0] = [4, 8, 14, 13]\n",
    "adjency_list[14] = [8, 0, 13]\n",
    "adjency_list[13] = [0, 14]\n",
    "\n",
    "adjency_list[1] = [5]\n",
    "adjency_list[5] = [1, 17, 16]\n",
    "adjency_list[17] = [5]\n",
    "adjency_list[16] = [5]\n",
    "\n",
    "adjency_list[3] = [9]\n",
    "adjency_list[9] = [3, 2, 15]\n",
    "adjency_list[15] = [2, 9, 10]\n",
    "adjency_list[2] = [9, 15]\n",
    "adjency_list[10] = [15]"
   ]
  },
  {
   "cell_type": "code",
   "execution_count": 83,
   "metadata": {},
   "outputs": [],
   "source": [
    "def find_components(adjency_list):\n",
    "    components = [None] * n_nodes\n",
    "    discovered = [0] * n_nodes\n",
    "    component = 0\n",
    "    \n",
    "    for i in range(len(adjency_list)):\n",
    "        if not discovered[i]:\n",
    "            dfs(i, component, adjency_list, discovered, components)\n",
    "            component +=1\n",
    "            #print(visited)\n",
    "    return component, components\n",
    "\n",
    "def dfs(i, component, adjency_list, discovered, components):\n",
    "        components[i] = component\n",
    "        for n in adjency_list[i]:\n",
    "            if not discovered[n]:\n",
    "                discovered[n] = 1\n",
    "                dfs(n, component, adjency_list, discovered, components)\n",
    "        "
   ]
  },
  {
   "cell_type": "code",
   "execution_count": 84,
   "metadata": {},
   "outputs": [
    {
     "name": "stdout",
     "output_type": "stream",
     "text": [
      "5 [[0, 4, 8, 13, 14], [1, 5, 16, 17], [2, 3, 9, 10, 15], [6, 7, 11], [12]]\n"
     ]
    }
   ],
   "source": [
    "n, components = find_components(adjency_list)\n",
    "cluster = [[] for _ in range(n)]\n",
    "for node, component in enumerate(components):\n",
    "    cluster[component].append(node)\n",
    "print(n, cluster)"
   ]
  },
  {
   "cell_type": "markdown",
   "metadata": {},
   "source": [
    "## Unweighted shortest path with BFS"
   ]
  },
  {
   "cell_type": "code",
   "execution_count": 108,
   "metadata": {},
   "outputs": [
    {
     "name": "stdout",
     "output_type": "stream",
     "text": [
      "[10, 9, 0, 7, 6]\n"
     ]
    }
   ],
   "source": [
    "from queue import Queue\n",
    "\n",
    "n_nodes = 13\n",
    "al = [[] for _ in range(n_nodes)]\n",
    "al[0] = [9,7,11]\n",
    "al[1] = [10,8]\n",
    "al[2] = [12, 3]\n",
    "al[3] = [2, 4, 7]\n",
    "al[4] = [3]\n",
    "al[5] = [6]\n",
    "al[7] = [0, 3, 6, 11]\n",
    "al[8] = [12,1,9]\n",
    "al[9] = [10,8,0]\n",
    "al[10] = [1,9]\n",
    "al[11] = [0,7]\n",
    "al[12] = [2,8]\n",
    "\n",
    "def bfs(start, end, al, discovered, prevs):\n",
    "    queue = Queue()\n",
    "    queue.put(start)\n",
    "    discovered[start] = 1\n",
    "    arrived = False\n",
    "    while not queue.empty() and not arrived:\n",
    "        node = queue.get()\n",
    "        for neighbor in al[node]:\n",
    "            if not discovered[neighbor]:\n",
    "                discovered[neighbor] = 1\n",
    "                prevs[neighbor] = node\n",
    "                if neighbor == end:\n",
    "                    arrived = True\n",
    "                    break\n",
    "                else:\n",
    "                    queue.put(neighbor)\n",
    "    \n",
    "\n",
    "def reconstruct_path(start, end, prevs):\n",
    "    path = [end]\n",
    "    prev = prevs[end]\n",
    "    while not prev is None:\n",
    "        path.append(prev)\n",
    "        prev = prevs[prev]\n",
    "       \n",
    "    path.reverse()\n",
    "    \n",
    "    if path[0] == start: return path\n",
    "    else: return []\n",
    "\n",
    "def shortest_path(start, end, al):\n",
    "    n = len(al)\n",
    "    discovered = [0 for _ in range(n)]\n",
    "    prevs = [None for _ in range(n)]\n",
    "    bfs(start, end, al, discovered, prevs)\n",
    "    return reconstruct_path(start, end, prevs)\n",
    "\n",
    "print(shortest_path(10, 6, al))"
   ]
  },
  {
   "cell_type": "code",
   "execution_count": null,
   "metadata": {},
   "outputs": [],
   "source": [
    "a = [3,4,2]\n",
    "a.reverse()\n",
    "a"
   ]
  },
  {
   "cell_type": "code",
   "execution_count": 157,
   "metadata": {},
   "outputs": [
    {
     "name": "stdout",
     "output_type": "stream",
     "text": [
      "9\n",
      "[1, 1, 1, None, 1, 1, 1]\n",
      "[1, None, 1, 1, 1, None, 1]\n",
      "[1, None, 1, 1, 1, 1, 1]\n",
      "[1, 1, None, None, 1, 1, 1]\n",
      "[None, 1, None, 1, 1, None, None]\n"
     ]
    }
   ],
   "source": [
    "R = 5\n",
    "C = 7\n",
    "S = []\n",
    "S.append( \"S..#...\") \n",
    "S.append( \".#...#.\") \n",
    "S.append( \".#.....\") \n",
    "S.append( \"..##...\") \n",
    "S.append( \"#.#E.#.\")\n",
    "\n",
    "dxs = [0, 0, -1, 1]\n",
    "dys = [1, -1, 0, 0]\n",
    "\n",
    "discovered = [[None for c in range(C)] for r in range(R)]\n",
    "start = (0, 0)\n",
    "\n",
    "def solve():\n",
    "    qx = Queue()\n",
    "    qy = Queue()\n",
    "        \n",
    "    (sx, sy) = start\n",
    "    discovered[sx][sy] = 1\n",
    "    qx.put(sx), qy.put(sy)\n",
    "    current_frontier_size = 1\n",
    "    new_frontier_size = 0\n",
    "    distance = 0\n",
    "    explored = 0\n",
    "    \n",
    "    solved = False\n",
    "    while not qx.empty() and not solved:\n",
    "        # Get the node to explore\n",
    "        x = qx.get()\n",
    "        y = qy.get()\n",
    "        s = S[y][x]\n",
    "        \n",
    "        # Is this the exit?\n",
    "        if s == \"E\":\n",
    "            solved = True\n",
    "            break    \n",
    "            \n",
    "        # Explore the neighboring cells\n",
    "        for dx, dy in zip(dxs, dys):\n",
    "            nx = x + dx\n",
    "            ny = y + dy\n",
    "            if 0 <= nx < C and 0 <= ny < R:\n",
    "                s = S[ny][nx]\n",
    "                if s != '#' and discovered[ny][nx] is None:\n",
    "                    new_frontier_size += 1\n",
    "                    discovered[ny][nx] = 1\n",
    "                    qx.put(nx), qy.put(ny)\n",
    "        explored += 1\n",
    "        \n",
    "        # Update the distance if warranted\n",
    "        if explored == current_frontier_size:\n",
    "            explored = 0\n",
    "            current_frontier_size = new_frontier_size\n",
    "            new_frontier_size = 0\n",
    "            distance += 1\n",
    "\n",
    "    if solved: return distance\n",
    "    else: return -1\n",
    "\n",
    "print(solve())\n",
    "for d in discovered:\n",
    "    print(d)\n",
    "            \n",
    "                    "
   ]
  },
  {
   "cell_type": "code",
   "execution_count": 213,
   "metadata": {},
   "outputs": [
    {
     "data": {
      "text/plain": [
       "['c', 'b', 'e', 'f', 'k', 'a', 'd', 'g', 'h', 'j', 'm', 'i', 'l']"
      ]
     },
     "execution_count": 213,
     "metadata": {},
     "output_type": "execute_result"
    }
   ],
   "source": [
    "nodes = ['a','b','c','d','e','f','g','h','i','j','k','l','m']\n",
    "ts = []\n",
    "\n",
    "at = {}\n",
    "at['a'] = ['d']\n",
    "at['b'] = ['d']\n",
    "at['c'] = ['a', 'b']\n",
    "at['d'] = ['g', 'h']\n",
    "at['e'] = ['a', 'd', 'f']\n",
    "at['f'] = ['k', 'j']\n",
    "at['g'] = ['i']\n",
    "at['h'] = ['i', 'j']\n",
    "at['i'] = ['l']\n",
    "at['j'] = ['l', 'm']\n",
    "at['k'] = ['j']\n",
    "at['l'] = []\n",
    "at['m'] = []\n",
    "\n",
    "        \n",
    "def topological_sort(at):\n",
    "\n",
    "    def dfs(node, free, at, ts):\n",
    "        for neighbour in at[node]:\n",
    "            if neighbour in free:\n",
    "                free.remove(neighbour)\n",
    "                dfs(neighbour, free, at, ts)\n",
    "        ts.append(node)\n",
    "    \n",
    "    nodes = [key for key in at]\n",
    "    free = set(nodes)\n",
    "    ts = []\n",
    "    while len(free) > 0: dfs(free.pop(), free, at, ts)\n",
    "    ts.reverse()\n",
    "    \n",
    "    return ts \n",
    "    \n",
    "\n",
    "topological_sort(at)"
   ]
  },
  {
   "cell_type": "code",
   "execution_count": 187,
   "metadata": {},
   "outputs": [
    {
     "data": {
      "text/plain": [
       "True"
      ]
     },
     "execution_count": 187,
     "metadata": {},
     "output_type": "execute_result"
    }
   ],
   "source": [
    "n = 4\n",
    "al = [[] for _ in range(n)]\n",
    "al[0] = [1,2]\n",
    "al[1] = [2]\n",
    "al[2] = [0,3]\n",
    "al[3] = [3]\n",
    "\n",
    "def check_node(node, al, visited, recstack):\n",
    "    visited[node] = 1\n",
    "    recstack[node] = 1\n",
    "    for neighbour in al[node]:\n",
    "        if not visited[neighbour]:\n",
    "            check_node(neighbour, al, visited, recstack)\n",
    "        elif recstack[neighbour]:\n",
    "            return True\n",
    "            \n",
    "    recstack[node] = 0\n",
    "    \n",
    "def is_cyclic(al):\n",
    "    n = len(al)\n",
    "    visited = [0] * n\n",
    "    recstack = [0] * n\n",
    "    for i in range(n):\n",
    "        if not visited[i]:\n",
    "            if check_node(i, al, visited, recstack):\n",
    "                return True\n",
    "    return False\n",
    "\n",
    "is_cyclic(al)"
   ]
  },
  {
   "cell_type": "code",
   "execution_count": 214,
   "metadata": {},
   "outputs": [
    {
     "name": "stdout",
     "output_type": "stream",
     "text": [
      "['a', 'b', 'c', 'd', 'g', 'f', 'e', 'h']\n",
      "[0, 3, 6, 7, 9, 12, 3, 11]\n",
      "[None, 'a', 'a', 'b', 'd', 'd', 'd', 'g']\n"
     ]
    }
   ],
   "source": [
    "import sys\n",
    "\n",
    "nodes = ['a', 'b', 'c', 'd', 'e', 'f', 'g', 'h']\n",
    "am = {}\n",
    "am['a'] = [('b' ,3), ('c', 6)]\n",
    "am['b'] = [('e', 11), ('d', 4), ('c', 4)]\n",
    "am['c'] = [('d', 8), ('g', 11)]\n",
    "am['d'] = [('e', -4), ('f', 5), ('g', 2)]\n",
    "am['e'] = [('h', 9)]\n",
    "am['f'] = [('h', 1)]\n",
    "am['g'] = [('h', 2)]\n",
    "am['h'] = []\n",
    "\n",
    "\n",
    "def sssp(am):\n",
    "    amu = {key: [edge[0] for edge in am[key]] for key in am}\n",
    "    top_sorted_nodes = topological_sort(amu)\n",
    "    print(top_sorted_nodes)\n",
    "    node_map = {key: idx for idx, key in enumerate(top_sorted_nodes)}\n",
    "    distances = [sys.maxsize] * len(top_sorted_nodes)\n",
    "    prevs = [None] * len(top_sorted_nodes)\n",
    "    distances[0] = 0\n",
    "    for idx, node in enumerate(top_sorted_nodes):\n",
    "        edges = am[node]\n",
    "        start_distance = distances[idx] \n",
    "        for (neighbour, distance) in edges:\n",
    "            nid = node_map[neighbour]\n",
    "            if distances[nid] > start_distance + distance:\n",
    "                distances[nid] = start_distance + distance\n",
    "                prevs[nid] = node\n",
    "    print(distances)\n",
    "    print(prevs)\n",
    "    \n",
    "sssp(am)\n",
    "                \n",
    "   "
   ]
  },
  {
   "cell_type": "code",
   "execution_count": 232,
   "metadata": {},
   "outputs": [
    {
     "data": {
      "text/plain": [
       "([0, 3, 1, 4, 7], [None, 2, 0, 1, 3])"
      ]
     },
     "execution_count": 232,
     "metadata": {},
     "output_type": "execute_result"
    }
   ],
   "source": [
    "from heapq import heappush, heappop\n",
    "\n",
    "n = 5\n",
    "al = [[] for _ in range(n)]\n",
    "al[0] = [(4, 1), (1, 2)]\n",
    "al[1] = [(1, 3)]\n",
    "al[2] = [(2, 1), (5, 3)]\n",
    "al[3] = [(3, 4)]\n",
    "al[4] = []\n",
    "\n",
    "def dijkstra_sssp(al, start, end):\n",
    "    n = len(al)\n",
    "    distances = [sys.maxsize] * n\n",
    "    visited = [False] * n\n",
    "    prevs = [None] * n\n",
    "    h = []\n",
    "    \n",
    "    heappush(h, (0, start))\n",
    "    distances[0] = 0\n",
    "    \n",
    "    while len(h) > 0:\n",
    "        (dist, dst) = heappop(h)\n",
    "        visited[dst] = True\n",
    "        if distances[dst] < dist: continue # This is a stale entry\n",
    "        for weight, ndst in al[dst]:\n",
    "            if not visited[ndst]:\n",
    "                ndist = distances[dst] + weight\n",
    "                if ndist < distances[ndst]:\n",
    "                    distances[ndst] = ndist\n",
    "                    prevs[ndst] = dst\n",
    "                    heappush(h, (ndist, ndst))\n",
    "                    \n",
    "    return distances, prevs\n",
    "                \n",
    "dijkstra_sssp(al, 0, 4)            "
   ]
  },
  {
   "cell_type": "code",
   "execution_count": 247,
   "metadata": {},
   "outputs": [
    {
     "name": "stdout",
     "output_type": "stream",
     "text": [
      "([0, 5, -20, -5, 60, 35, 40, -10, -20, 160], [0, 5, -9223372036854775807, -9223372036854775807, -9223372036854775807, 35, 40, -10, -20, -9223372036854775807])\n"
     ]
    }
   ],
   "source": [
    "# Bellman ford\n",
    "import sys\n",
    "import copy\n",
    "from queue import Queue\n",
    "\n",
    "V = 10\n",
    "iterations = V - 1\n",
    "al = [[] for _ in range(V)]\n",
    "al[0] = [(5, 1)]\n",
    "al[1] = [(20, 2), (60, 6), (30, 5)]\n",
    "al[2] = [(10, 3), (75, 4)]\n",
    "al[3] = [(-15, 2)]\n",
    "al[4] = [(100, 9)]\n",
    "al[5] = [(25, 4), (5, 6), (50, 8)]\n",
    "al[6] = [(-50, 7)]\n",
    "al[7] = [(-10, 8)]\n",
    "al[8] = []\n",
    "al[9] = []\n",
    "\n",
    "def bellman_ford(al, start = 0):\n",
    "    V = len(al)\n",
    "    D = [sys.maxsize] * V\n",
    "    D[0] = 0\n",
    "    \n",
    "    iterations = V - 1\n",
    "    for _ in range(iterations):\n",
    "        for v in range(V):\n",
    "            for dist, dest in al[v]:\n",
    "                if D[dest] > D[v] + dist:\n",
    "                    D[dest] = D[v] + dist\n",
    "            \n",
    "    N = copy.deepcopy(D)\n",
    "    \n",
    "    for _ in range(iterations):\n",
    "        for v in range(V):\n",
    "            for dist, dest in al[v]: \n",
    "                if N[dest] > N[v] + dist:\n",
    "                    N[dest] = - sys.maxsize\n",
    "    \n",
    "    return D, N\n",
    "\n",
    "print(bellman_ford(al))\n",
    "    "
   ]
  },
  {
   "cell_type": "code",
   "execution_count": 17,
   "metadata": {},
   "outputs": [
    {
     "name": "stdout",
     "output_type": "stream",
     "text": [
      "[2, 5, 3, 4, 2, 3]\n"
     ]
    }
   ],
   "source": [
    "# Bridges\n",
    "\n",
    "n = 9\n",
    "al = [[] for _ in range(n)]\n",
    "al[0] = [1, 2]\n",
    "al[1] = [0, 2]\n",
    "al[2] = [0, 1, 5, 3]\n",
    "al[3] = [2, 4]\n",
    "al[4] = [3]\n",
    "al[5] = [2, 6, 8]\n",
    "al[6] = [5, 7]\n",
    "al[7] = [6, 8]\n",
    "al[8] = [5, 7]\n",
    "\n",
    "\n",
    "idx = 0\n",
    "idxs = [0] * n\n",
    "low = [0] * n\n",
    "visited = [False] * n\n",
    "\n",
    "def dfs(at, parent, bridges):\n",
    "    global idx, idxs, low, visited\n",
    "    visited[at] = True\n",
    "    low[at] = idx \n",
    "    idxs[at] = idx\n",
    "    idx += 1\n",
    "    \n",
    "    for to in al[at]:\n",
    "        if to == parent: continue\n",
    "        if not visited[to]:\n",
    "            dfs(to, at, bridges)\n",
    "            low[at] = min(low[at], low[to])\n",
    "            if idxs[at] < low[to]:\n",
    "                bridges.append(at)\n",
    "                bridges.append(to)\n",
    "        else:\n",
    "            low[at] = min(low[at], idxs[to])\n",
    "    \n",
    "def find_bridges():\n",
    "    bridges = []\n",
    "    for i in range(n):\n",
    "        if not visited[i]:\n",
    "            dfs(i, -1, bridges)\n",
    "    return bridges\n",
    "\n",
    "print(find_bridges())"
   ]
  },
  {
   "cell_type": "code",
   "execution_count": null,
   "metadata": {},
   "outputs": [],
   "source": []
  }
 ],
 "metadata": {
  "kernelspec": {
   "display_name": "Python 3",
   "language": "python",
   "name": "python3"
  },
  "language_info": {
   "codemirror_mode": {
    "name": "ipython",
    "version": 3
   },
   "file_extension": ".py",
   "mimetype": "text/x-python",
   "name": "python",
   "nbconvert_exporter": "python",
   "pygments_lexer": "ipython3",
   "version": "3.8.2"
  }
 },
 "nbformat": 4,
 "nbformat_minor": 4
}
