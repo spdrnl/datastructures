{
 "cells": [
  {
   "cell_type": "code",
   "execution_count": 78,
   "metadata": {},
   "outputs": [],
   "source": [
    "def insertion_sort(values):\n",
    "    n = len(values)\n",
    "    for i in range(1,n):\n",
    "        key = values[i]\n",
    "        j = i - 1\n",
    "        while j >= 0 and key < values[j]:\n",
    "            values[j+1] = values[j]\n",
    "            j -= 1\n",
    "        values[j + 1] = key\n",
    "\n",
    "    return values        "
   ]
  },
  {
   "cell_type": "code",
   "execution_count": 79,
   "metadata": {},
   "outputs": [
    {
     "name": "stdout",
     "output_type": "stream",
     "text": [
      "[1, 2, 2, 3, 3, 5, 6, 7, 8]\n"
     ]
    }
   ],
   "source": [
    "values = [3,2,6,8,3,2,1,5,7]\n",
    "print(insertion_sort(values))"
   ]
  },
  {
   "cell_type": "code",
   "execution_count": 86,
   "metadata": {},
   "outputs": [],
   "source": [
    "def selection_sort(values):\n",
    "    n = len(values)\n",
    "    for i in range(0,n-1):\n",
    "        smallest_index = i\n",
    "        for j in range(i+1, n):\n",
    "            if values[j] < values[smallest_index]:\n",
    "                smallest_index = j\n",
    "\n",
    "        if smallest_index != i:\n",
    "            values[i], values[smallest_index] = values[smallest_index], values[i]\n",
    "\n",
    "    return values "
   ]
  },
  {
   "cell_type": "code",
   "execution_count": 87,
   "metadata": {},
   "outputs": [
    {
     "name": "stdout",
     "output_type": "stream",
     "text": [
      "[1, 2, 2, 3, 3, 5, 6, 7, 8]\n"
     ]
    }
   ],
   "source": [
    "values = [3,2,6,8,3,2,1,5,7]\n",
    "print(selection_sort(values))"
   ]
  },
  {
   "cell_type": "code",
   "execution_count": 144,
   "metadata": {},
   "outputs": [],
   "source": [
    "def merge(left, right):\n",
    "    result = []\n",
    "    l = 0\n",
    "    r = 0\n",
    "    while l < len(left) and r < len(right):\n",
    "        if left[l] < right[r]:\n",
    "            result.append(left[l])\n",
    "            l += 1\n",
    "        else:\n",
    "            result.append(right[r])\n",
    "            r += 1\n",
    "    if l == len(left):\n",
    "        result += right[r:]\n",
    "    else:\n",
    "        result += left[l:]\n",
    "    return result\n",
    "    \n",
    "def merge_sort(values):\n",
    "    l = 0\n",
    "    r = len(values)\n",
    "    m = (l+r)//2\n",
    "    if l == r - 1:\n",
    "        return values\n",
    "    else:\n",
    "        m = (l + r)//2\n",
    "        left = merge_sort(values[:m])\n",
    "        right = merge_sort(values[m:])\n",
    "        return (merge(left, right))"
   ]
  },
  {
   "cell_type": "code",
   "execution_count": 147,
   "metadata": {},
   "outputs": [
    {
     "data": {
      "text/plain": [
       "[1, 2, 2, 3, 3, 5, 6, 7, 8]"
      ]
     },
     "execution_count": 147,
     "metadata": {},
     "output_type": "execute_result"
    }
   ],
   "source": [
    "values = [3,2,6,8,3,2,1,5,7]\n",
    "merge_sort(values)"
   ]
  },
  {
   "cell_type": "code",
   "execution_count": 165,
   "metadata": {},
   "outputs": [],
   "source": [
    "def sink(parent, values, limit):\n",
    "    lc = 2*parent + 1\n",
    "    rc = 2*parent + 2\n",
    "    if lc > limit and rc > limit:\n",
    "        return\n",
    "    elif lc <= limit and rc <= limit:\n",
    "        child = lc if values[lc] > values[rc] else rc\n",
    "    elif lc <= limit:\n",
    "        child = lc\n",
    "    else:\n",
    "        child = rc\n",
    "        \n",
    "    if values[parent] < values[child]:\n",
    "        values[parent], values[child] = values[child], values[parent]\n",
    "        sink(child, values, limit)\n",
    "    \n",
    "def heapify(values, limit):\n",
    "    parent = (limit - 1)//2\n",
    "    while parent >= 0:\n",
    "        print(parent)\n",
    "        sink(parent, values, limit)\n",
    "        parent -= 1\n",
    "    \n",
    "def heap_sort(values):\n",
    "    limit = len(values) - 1\n",
    "    heapify(values, limit)\n",
    "    while limit >= 1:\n",
    "        values[0], values[limit] = values[limit], values[0]\n",
    "        limit -= 1\n",
    "        sink(0, values, limit)\n",
    "    return values\n",
    "    "
   ]
  },
  {
   "cell_type": "code",
   "execution_count": 166,
   "metadata": {},
   "outputs": [
    {
     "name": "stdout",
     "output_type": "stream",
     "text": [
      "3\n",
      "2\n",
      "1\n",
      "0\n"
     ]
    },
    {
     "data": {
      "text/plain": [
       "[1, 2, 2, 3, 3, 5, 6, 7, 8]"
      ]
     },
     "execution_count": 166,
     "metadata": {},
     "output_type": "execute_result"
    }
   ],
   "source": [
    "values = [3,2,6,8,3,2,1,5,7]\n",
    "heap_sort(values)"
   ]
  },
  {
   "cell_type": "code",
   "execution_count": null,
   "metadata": {},
   "outputs": [],
   "source": []
  }
 ],
 "metadata": {
  "kernelspec": {
   "display_name": "Python 3",
   "language": "python",
   "name": "python3"
  },
  "language_info": {
   "codemirror_mode": {
    "name": "ipython",
    "version": 3
   },
   "file_extension": ".py",
   "mimetype": "text/x-python",
   "name": "python",
   "nbconvert_exporter": "python",
   "pygments_lexer": "ipython3",
   "version": "3.8.2"
  }
 },
 "nbformat": 4,
 "nbformat_minor": 4
}
